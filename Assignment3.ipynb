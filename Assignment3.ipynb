{
  "nbformat": 4,
  "nbformat_minor": 0,
  "metadata": {
    "colab": {
      "provenance": [],
      "authorship_tag": "ABX9TyNjnd7y2JoBDkSVugtM9W86",
      "include_colab_link": true
    },
    "kernelspec": {
      "name": "python3",
      "display_name": "Python 3"
    },
    "language_info": {
      "name": "python"
    }
  },
  "cells": [
    {
      "cell_type": "markdown",
      "metadata": {
        "id": "view-in-github",
        "colab_type": "text"
      },
      "source": [
        "<a href=\"https://colab.research.google.com/github/aaryyya/MLDLAlgorithmsTYITAssignments/blob/main/Assignment3.ipynb\" target=\"_parent\"><img src=\"https://colab.research.google.com/assets/colab-badge.svg\" alt=\"Open In Colab\"/></a>"
      ]
    },
    {
      "cell_type": "code",
      "execution_count": 7,
      "metadata": {
        "colab": {
          "base_uri": "https://localhost:8080/"
        },
        "id": "4dGLR0algoCD",
        "outputId": "45de5b55-7d56-4a54-dfec-31a528bd99ab"
      },
      "outputs": [
        {
          "output_type": "stream",
          "name": "stdout",
          "text": [
            "Requirement already satisfied: imgaug in /usr/local/lib/python3.11/dist-packages (0.4.0)\n",
            "Requirement already satisfied: six in /usr/local/lib/python3.11/dist-packages (from imgaug) (1.17.0)\n",
            "Requirement already satisfied: numpy>=1.15 in /usr/local/lib/python3.11/dist-packages (from imgaug) (1.26.4)\n",
            "Requirement already satisfied: scipy in /usr/local/lib/python3.11/dist-packages (from imgaug) (1.13.1)\n",
            "Requirement already satisfied: Pillow in /usr/local/lib/python3.11/dist-packages (from imgaug) (11.1.0)\n",
            "Requirement already satisfied: matplotlib in /usr/local/lib/python3.11/dist-packages (from imgaug) (3.10.0)\n",
            "Requirement already satisfied: scikit-image>=0.14.2 in /usr/local/lib/python3.11/dist-packages (from imgaug) (0.25.0)\n",
            "Requirement already satisfied: opencv-python in /usr/local/lib/python3.11/dist-packages (from imgaug) (4.10.0.84)\n",
            "Requirement already satisfied: imageio in /usr/local/lib/python3.11/dist-packages (from imgaug) (2.36.1)\n",
            "Requirement already satisfied: Shapely in /usr/local/lib/python3.11/dist-packages (from imgaug) (2.0.6)\n",
            "Requirement already satisfied: networkx>=3.0 in /usr/local/lib/python3.11/dist-packages (from scikit-image>=0.14.2->imgaug) (3.4.2)\n",
            "Requirement already satisfied: tifffile>=2022.8.12 in /usr/local/lib/python3.11/dist-packages (from scikit-image>=0.14.2->imgaug) (2024.12.12)\n",
            "Requirement already satisfied: packaging>=21 in /usr/local/lib/python3.11/dist-packages (from scikit-image>=0.14.2->imgaug) (24.2)\n",
            "Requirement already satisfied: lazy-loader>=0.4 in /usr/local/lib/python3.11/dist-packages (from scikit-image>=0.14.2->imgaug) (0.4)\n",
            "Requirement already satisfied: contourpy>=1.0.1 in /usr/local/lib/python3.11/dist-packages (from matplotlib->imgaug) (1.3.1)\n",
            "Requirement already satisfied: cycler>=0.10 in /usr/local/lib/python3.11/dist-packages (from matplotlib->imgaug) (0.12.1)\n",
            "Requirement already satisfied: fonttools>=4.22.0 in /usr/local/lib/python3.11/dist-packages (from matplotlib->imgaug) (4.55.3)\n",
            "Requirement already satisfied: kiwisolver>=1.3.1 in /usr/local/lib/python3.11/dist-packages (from matplotlib->imgaug) (1.4.8)\n",
            "Requirement already satisfied: pyparsing>=2.3.1 in /usr/local/lib/python3.11/dist-packages (from matplotlib->imgaug) (3.2.1)\n",
            "Requirement already satisfied: python-dateutil>=2.7 in /usr/local/lib/python3.11/dist-packages (from matplotlib->imgaug) (2.8.2)\n",
            "An error occurred: module 'numpy' has no attribute 'bool'.\n",
            "`np.bool` was a deprecated alias for the builtin `bool`. To avoid this error in existing code, use `bool` by itself. Doing this will not modify any behavior and is safe. If you specifically wanted the numpy scalar type, use `np.bool_` here.\n",
            "The aliases was originally deprecated in NumPy 1.20; for more details and guidance see the original release note at:\n",
            "    https://numpy.org/devdocs/release/1.20.0-notes.html#deprecations\n"
          ]
        },
        {
          "output_type": "stream",
          "name": "stderr",
          "text": [
            "/usr/local/lib/python3.11/dist-packages/imgaug/augmenters/meta.py:3368: FutureWarning: In the future `np.bool` will be defined as the corresponding NumPy scalar.\n",
            "  augmenter_active = np.zeros((nb_rows, len(self)), dtype=np.bool)\n"
          ]
        }
      ],
      "source": [
        "# prompt: write python code to perform data augmentation using affine transform which shall perform atleast 10 different types operations\n",
        "\n",
        "!pip install imgaug\n",
        "\n",
        "import imgaug.augmenters as iaa\n",
        "import numpy as np\n",
        "from PIL import Image\n",
        "import matplotlib.pyplot as plt\n",
        "\n",
        "def augment_image(image_path, output_path_prefix):\n",
        "    try:\n",
        "        img = Image.open(image_path)\n",
        "        img_np = np.array(img)\n",
        "\n",
        "        # Define a sequence of affine transformations\n",
        "        seq = iaa.Sequential([\n",
        "            iaa.Affine(scale={\"x\": (0.8, 1.2), \"y\": (0.8, 1.2)}), # Scaling\n",
        "            iaa.Affine(translate_percent={\"x\": (-0.2, 0.2), \"y\": (-0.2, 0.2)}), # Translation\n",
        "            iaa.Affine(rotate=(-45, 45)),  # Rotation\n",
        "            iaa.Affine(shear=(-16, 16)), # Shearing\n",
        "            iaa.Fliplr(0.5), # Horizontal flip\n",
        "            iaa.Flipud(0.5), # Vertical flip\n",
        "            iaa.Affine(scale=(0.5,1.5)), # Another scaling variation\n",
        "            iaa.Affine(translate_px={\"x\": (-30, 30), \"y\": (-30, 30)}), # Pixel based translation\n",
        "            iaa.Affine(rotate=(-90, 90)), # wider range rotation\n",
        "            iaa.Affine(shear=(-30,30)), # wider range shear\n",
        "            iaa.SomeOf((1,3),[ # random set of operations from 1 to 3\n",
        "                iaa.Affine(scale=(0.6, 1.4)),\n",
        "                iaa.Affine(translate_px={\"x\": (-50, 50), \"y\": (-50, 50)}),\n",
        "                iaa.Affine(rotate=(-60, 60))\n",
        "            ]),\n",
        "\n",
        "        ], random_order=True) # Apply transformations in random order\n",
        "\n",
        "        # Perform augmentation\n",
        "        augmented_images = seq(images=[img_np for _ in range(10)])\n",
        "\n",
        "        # Save augmented images\n",
        "        for i, augmented_image in enumerate(augmented_images):\n",
        "            augmented_img = Image.fromarray(augmented_image)\n",
        "            augmented_img.save(f\"{output_path_prefix}_augmented_{i}.png\")\n",
        "\n",
        "        print(f\"Successfully augmented and saved images to {output_path_prefix}_augmented_*.png\")\n",
        "\n",
        "    except FileNotFoundError:\n",
        "        print(f\"Error: Image file not found at {image_path}\")\n",
        "    except Exception as e:\n",
        "        print(f\"An error occurred: {e}\")\n",
        "\n",
        "# Example usage\n",
        "augment_image(\"/content/istockphoto-1737183510-1024x1024.jpg\", \"/content/output/output.jpg\") #Replace \"input.jpg\" with your image and \"output\" with desired output path"
      ]
    },
    {
      "cell_type": "code",
      "source": [
        "import numpy as np\n",
        "from PIL import Image, ImageEnhance\n",
        "import random\n",
        "\n",
        "# Load an image\n",
        "def load_image(image_path):\n",
        "    return Image.open(image_path)\n",
        "\n",
        "# Apply distinct affine transformations\n",
        "def apply_augmentation(image, transform_type):\n",
        "    if transform_type == 'scale':\n",
        "        return apply_scaling(image, random.uniform(0.8, 1.2))\n",
        "    elif transform_type == 'rotate':\n",
        "        return apply_rotation(image, random.uniform(-30, 30))\n",
        "    elif transform_type == 'translate':\n",
        "        return apply_translation(image, random.randint(-50, 50), random.randint(-50, 50))\n",
        "    elif transform_type == 'shear':\n",
        "        return apply_shear(image, random.uniform(-0.3, 0.3))\n",
        "    elif transform_type == 'flip':\n",
        "        return apply_flip(image)\n",
        "    elif transform_type == 'contrast':\n",
        "        return apply_contrast(image, random.uniform(0.8, 1.2))\n",
        "    elif transform_type == 'brightness':\n",
        "        return apply_brightness(image, random.uniform(0.8, 1.2))\n",
        "    elif transform_type == 'color':\n",
        "        return apply_color(image, random.uniform(0.8, 1.2))\n",
        "    elif transform_type == 'sharpness':\n",
        "        return apply_sharpness(image, random.uniform(0.8, 1.2))\n",
        "    elif transform_type == 'noise':\n",
        "        return add_noise(image, random.uniform(0, 0.05))\n",
        "\n",
        "# Apply scaling (zoom)\n",
        "def apply_scaling(image, scale):\n",
        "    width, height = image.size\n",
        "    new_width = int(width * scale)\n",
        "    new_height = int(height * scale)\n",
        "    return image.resize((new_width, new_height))\n",
        "\n",
        "# Apply rotation\n",
        "def apply_rotation(image, angle):\n",
        "    return image.rotate(angle)\n",
        "\n",
        "# Apply translation (shift)\n",
        "def apply_translation(image, tx, ty):\n",
        "    return image.transform(image.size, Image.AFFINE, (1, 0, tx, 0, 1, ty))\n",
        "\n",
        "# Apply shearing\n",
        "def apply_shear(image, shear):\n",
        "    return image.transform(image.size, Image.AFFINE, (1, shear, 0, shear, 1, 0))\n",
        "\n",
        "# Apply horizontal flip\n",
        "def apply_flip(image):\n",
        "    return image.transpose(Image.FLIP_LEFT_RIGHT)\n",
        "\n",
        "# Apply contrast adjustment\n",
        "def apply_contrast(image, factor):\n",
        "    enhancer = ImageEnhance.Contrast(image)\n",
        "    return enhancer.enhance(factor)\n",
        "\n",
        "# Apply brightness adjustment\n",
        "def apply_brightness(image, factor):\n",
        "    enhancer = ImageEnhance.Brightness(image)\n",
        "    return enhancer.enhance(factor)\n",
        "\n",
        "# Apply color enhancement\n",
        "def apply_color(image, factor):\n",
        "    enhancer = ImageEnhance.Color(image)\n",
        "    return enhancer.enhance(factor)\n",
        "\n",
        "# Apply sharpness enhancement\n",
        "def apply_sharpness(image, factor):\n",
        "    enhancer = ImageEnhance.Sharpness(image)\n",
        "    return enhancer.enhance(factor)\n",
        "\n",
        "# Add random noise to image\n",
        "def add_noise(image, noise_factor):\n",
        "    np_image = np.array(image)\n",
        "    noise = np.random.normal(0, noise_factor, np_image.shape)\n",
        "    np_image = np.clip(np_image + noise, 0, 255).astype(np.uint8)\n",
        "    return Image.fromarray(np_image)\n",
        "\n",
        "# Example usage\n",
        "if __name__ == \"__main__\":\n",
        "    image_path = '/content/input.jpg'  # Replace with the actual image path\n",
        "    image = load_image(image_path)\n",
        "\n",
        "    # Define distinct augmentation types\n",
        "    augmentations = [\n",
        "        'scale', 'rotate', 'translate', 'shear', 'flip',\n",
        "        'contrast', 'brightness', 'color', 'sharpness', 'noise'\n",
        "    ]\n",
        "\n",
        "    # Apply each distinct transformation and save the images\n",
        "    for i, aug_type in enumerate(augmentations):\n",
        "        augmented_image = apply_augmentation(image, aug_type)\n",
        "        augmented_image.save(f\"augmented_image_{aug_type}.jpg\")\n",
        "        augmented_image.show()\n",
        "\n",
        "    print(\"Augmentations completed and saved.\")\n"
      ],
      "metadata": {
        "colab": {
          "base_uri": "https://localhost:8080/"
        },
        "id": "e0lhS8l4uH58",
        "outputId": "8a8aca05-b037-4f1e-c9a2-09738605c5c1"
      },
      "execution_count": 19,
      "outputs": [
        {
          "output_type": "stream",
          "name": "stdout",
          "text": [
            "Augmentations completed and saved.\n"
          ]
        }
      ]
    }
  ]
}