{
  "nbformat": 4,
  "nbformat_minor": 0,
  "metadata": {
    "colab": {
      "provenance": [],
      "toc_visible": true,
      "authorship_tag": "ABX9TyM9dmzHNa+gSPfuxTMqhJ1n",
      "include_colab_link": true
    },
    "kernelspec": {
      "name": "python3",
      "display_name": "Python 3"
    },
    "language_info": {
      "name": "python"
    }
  },
  "cells": [
    {
      "cell_type": "markdown",
      "metadata": {
        "id": "view-in-github",
        "colab_type": "text"
      },
      "source": [
        "<a href=\"https://colab.research.google.com/github/aaryyya/MLDLAlgorithmsTYITAssignments/blob/main/Assignment6.ipynb\" target=\"_parent\"><img src=\"https://colab.research.google.com/assets/colab-badge.svg\" alt=\"Open In Colab\"/></a>"
      ]
    },
    {
      "cell_type": "code",
      "execution_count": 5,
      "metadata": {
        "colab": {
          "base_uri": "https://localhost:8080/"
        },
        "id": "Bw-WVLjzTHDG",
        "outputId": "f243251e-ff1f-48b0-a280-20e0e3ade0f9"
      },
      "outputs": [
        {
          "output_type": "stream",
          "name": "stdout",
          "text": [
            "   Age  Gender  Speed_of_Impact Helmet_Used Seatbelt_Used  Survived\n",
            "0   56  Female             27.0          No            No         1\n",
            "1   69  Female             46.0          No           Yes         1\n",
            "2   46    Male             46.0         Yes           Yes         0\n",
            "3   32    Male            117.0          No           Yes         0\n",
            "4   60  Female             40.0         Yes           Yes         0\n",
            "Random Forest Model Accuracy: 0.425\n"
          ]
        }
      ],
      "source": [
        "import pandas as pd\n",
        "from sklearn.model_selection import train_test_split\n",
        "from sklearn.ensemble import RandomForestClassifier\n",
        "from sklearn.metrics import accuracy_score\n",
        "\n",
        "# Load dataset\n",
        "df = pd.read_csv(\"accident.csv\")\n",
        "\n",
        "# Display basic info about the dataset\n",
        "print(df.head())\n",
        "\n",
        "# Preprocessing: Renaming columns for better readability\n",
        "df.rename(columns={\n",
        "    \"Age\": \"Age\",\n",
        "    \"Gender\": \"Gender\",\n",
        "    \"Speed_of_Impact\": \"Speed_of_Impact\",\n",
        "    \"Helmet_Used\": \"Helmet_Used\",\n",
        "    \"Seatbelt_Used\": \"Seatbelt_Used\",\n",
        "    \"Survived\": \"Survived\"\n",
        "}, inplace=True)\n",
        "\n",
        "# Handling missing values (if any)\n",
        "df = df.dropna()\n",
        "\n",
        "# Encoding categorical variables\n",
        "df = pd.get_dummies(df, columns=[\"Gender\", \"Helmet_Used\", \"Seatbelt_Used\"], drop_first=True)\n",
        "\n",
        "# Define features and target variable\n",
        "X = df.drop(columns=[\"Survived\"])\n",
        "y = df[\"Survived\"]\n",
        "\n",
        "# Split dataset into training and testing sets\n",
        "X_train, X_test, y_train, y_test = train_test_split(X, y, test_size=0.2, random_state=42)\n",
        "\n",
        "# Initialize and train the Random Forest model\n",
        "rf_classifier = RandomForestClassifier(n_estimators=100, max_depth=10, random_state=42)\n",
        "rf_classifier.fit(X_train, y_train)\n",
        "\n",
        "# Make predictions\n",
        "y_pred = rf_classifier.predict(X_test)\n",
        "\n",
        "# Evaluate the model\n",
        "accuracy = accuracy_score(y_test, y_pred)\n",
        "print(f'Random Forest Model Accuracy: {accuracy:}')\n"
      ]
    }
  ]
}